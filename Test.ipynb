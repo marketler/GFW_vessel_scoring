{
 "cells": [
  {
   "cell_type": "code",
   "execution_count": 1,
   "metadata": {},
   "outputs": [],
   "source": [
    "import vessel_scoring.models\n",
    "import json\n",
    "import datetime\n",
    "import numpy as np\n",
    "import matplotlib.pyplot as plt\n",
    "\n",
    "models = vessel_scoring.models.load_models()\n",
    "\n",
    "def messages_from_bq_dump(path):\n",
    "    with open(path) as f:\n",
    "        for row in json.load(f):\n",
    "            row = row\n",
    "            row = {key: float(value) for (key, value) in row.items()\n",
    "                if key in ('timestamp', 'course', 'speed', 'lat', 'lon')\n",
    "                  and value is not None}\n",
    "            row['timestamp'] = datetime.datetime.fromtimestamp(int(row['timestamp']))\n",
    "            yield row\n",
    "\n",
    "messages = models['Logistic'].predict_messages(\n",
    "    messages_from_bq_dump(\"C:\\\\Users\\\\MarkR\\\\Documents\\\\UTwente\\\\GFW model\\\\Git clone scoring\\\\vessel-scoring\\\\datasets\\\\Spire_test.json\"))"
   ]
  },
  {
   "cell_type": "code",
   "execution_count": 2,
   "metadata": {},
   "outputs": [
    {
     "ename": "AttributeError",
     "evalue": "'LogisticModel' object has no attribute 'coef'",
     "output_type": "error",
     "traceback": [
      "\u001b[1;31m---------------------------------------------------------------------------\u001b[0m",
      "\u001b[1;31mAttributeError\u001b[0m                            Traceback (most recent call last)",
      "Input \u001b[1;32mIn [2]\u001b[0m, in \u001b[0;36m<cell line: 1>\u001b[1;34m()\u001b[0m\n\u001b[1;32m----> 1\u001b[0m \u001b[39mprint\u001b[39;49m(models)\n",
      "File \u001b[1;32m~\\AppData\\Local\\Programs\\Python\\Python39\\lib\\site-packages\\sklearn\\base.py:279\u001b[0m, in \u001b[0;36mBaseEstimator.__repr__\u001b[1;34m(self, N_CHAR_MAX)\u001b[0m\n\u001b[0;32m    <a href='file:///c%3A/Users/MarkR/AppData/Local/Programs/Python/Python39/lib/site-packages/sklearn/base.py?line=270'>271</a>\u001b[0m \u001b[39m# use ellipsis for sequences with a lot of elements\u001b[39;00m\n\u001b[0;32m    <a href='file:///c%3A/Users/MarkR/AppData/Local/Programs/Python/Python39/lib/site-packages/sklearn/base.py?line=271'>272</a>\u001b[0m pp \u001b[39m=\u001b[39m _EstimatorPrettyPrinter(\n\u001b[0;32m    <a href='file:///c%3A/Users/MarkR/AppData/Local/Programs/Python/Python39/lib/site-packages/sklearn/base.py?line=272'>273</a>\u001b[0m     compact\u001b[39m=\u001b[39m\u001b[39mTrue\u001b[39;00m,\n\u001b[0;32m    <a href='file:///c%3A/Users/MarkR/AppData/Local/Programs/Python/Python39/lib/site-packages/sklearn/base.py?line=273'>274</a>\u001b[0m     indent\u001b[39m=\u001b[39m\u001b[39m1\u001b[39m,\n\u001b[0;32m    <a href='file:///c%3A/Users/MarkR/AppData/Local/Programs/Python/Python39/lib/site-packages/sklearn/base.py?line=274'>275</a>\u001b[0m     indent_at_name\u001b[39m=\u001b[39m\u001b[39mTrue\u001b[39;00m,\n\u001b[0;32m    <a href='file:///c%3A/Users/MarkR/AppData/Local/Programs/Python/Python39/lib/site-packages/sklearn/base.py?line=275'>276</a>\u001b[0m     n_max_elements_to_show\u001b[39m=\u001b[39mN_MAX_ELEMENTS_TO_SHOW,\n\u001b[0;32m    <a href='file:///c%3A/Users/MarkR/AppData/Local/Programs/Python/Python39/lib/site-packages/sklearn/base.py?line=276'>277</a>\u001b[0m )\n\u001b[1;32m--> <a href='file:///c%3A/Users/MarkR/AppData/Local/Programs/Python/Python39/lib/site-packages/sklearn/base.py?line=278'>279</a>\u001b[0m repr_ \u001b[39m=\u001b[39m pp\u001b[39m.\u001b[39;49mpformat(\u001b[39mself\u001b[39;49m)\n\u001b[0;32m    <a href='file:///c%3A/Users/MarkR/AppData/Local/Programs/Python/Python39/lib/site-packages/sklearn/base.py?line=280'>281</a>\u001b[0m \u001b[39m# Use bruteforce ellipsis when there are a lot of non-blank characters\u001b[39;00m\n\u001b[0;32m    <a href='file:///c%3A/Users/MarkR/AppData/Local/Programs/Python/Python39/lib/site-packages/sklearn/base.py?line=281'>282</a>\u001b[0m n_nonblank \u001b[39m=\u001b[39m \u001b[39mlen\u001b[39m(\u001b[39m\"\u001b[39m\u001b[39m\"\u001b[39m\u001b[39m.\u001b[39mjoin(repr_\u001b[39m.\u001b[39msplit()))\n",
      "File \u001b[1;32m~\\AppData\\Local\\Programs\\Python\\Python39\\lib\\pprint.py:153\u001b[0m, in \u001b[0;36mPrettyPrinter.pformat\u001b[1;34m(self, object)\u001b[0m\n\u001b[0;32m    <a href='file:///c%3A/Users/MarkR/AppData/Local/Programs/Python/Python39/lib/pprint.py?line=150'>151</a>\u001b[0m \u001b[39mdef\u001b[39;00m \u001b[39mpformat\u001b[39m(\u001b[39mself\u001b[39m, \u001b[39mobject\u001b[39m):\n\u001b[0;32m    <a href='file:///c%3A/Users/MarkR/AppData/Local/Programs/Python/Python39/lib/pprint.py?line=151'>152</a>\u001b[0m     sio \u001b[39m=\u001b[39m _StringIO()\n\u001b[1;32m--> <a href='file:///c%3A/Users/MarkR/AppData/Local/Programs/Python/Python39/lib/pprint.py?line=152'>153</a>\u001b[0m     \u001b[39mself\u001b[39;49m\u001b[39m.\u001b[39;49m_format(\u001b[39mobject\u001b[39;49m, sio, \u001b[39m0\u001b[39;49m, \u001b[39m0\u001b[39;49m, {}, \u001b[39m0\u001b[39;49m)\n\u001b[0;32m    <a href='file:///c%3A/Users/MarkR/AppData/Local/Programs/Python/Python39/lib/pprint.py?line=153'>154</a>\u001b[0m     \u001b[39mreturn\u001b[39;00m sio\u001b[39m.\u001b[39mgetvalue()\n",
      "File \u001b[1;32m~\\AppData\\Local\\Programs\\Python\\Python39\\lib\\pprint.py:170\u001b[0m, in \u001b[0;36mPrettyPrinter._format\u001b[1;34m(self, object, stream, indent, allowance, context, level)\u001b[0m\n\u001b[0;32m    <a href='file:///c%3A/Users/MarkR/AppData/Local/Programs/Python/Python39/lib/pprint.py?line=167'>168</a>\u001b[0m     \u001b[39mself\u001b[39m\u001b[39m.\u001b[39m_readable \u001b[39m=\u001b[39m \u001b[39mFalse\u001b[39;00m\n\u001b[0;32m    <a href='file:///c%3A/Users/MarkR/AppData/Local/Programs/Python/Python39/lib/pprint.py?line=168'>169</a>\u001b[0m     \u001b[39mreturn\u001b[39;00m\n\u001b[1;32m--> <a href='file:///c%3A/Users/MarkR/AppData/Local/Programs/Python/Python39/lib/pprint.py?line=169'>170</a>\u001b[0m rep \u001b[39m=\u001b[39m \u001b[39mself\u001b[39;49m\u001b[39m.\u001b[39;49m_repr(\u001b[39mobject\u001b[39;49m, context, level)\n\u001b[0;32m    <a href='file:///c%3A/Users/MarkR/AppData/Local/Programs/Python/Python39/lib/pprint.py?line=170'>171</a>\u001b[0m max_width \u001b[39m=\u001b[39m \u001b[39mself\u001b[39m\u001b[39m.\u001b[39m_width \u001b[39m-\u001b[39m indent \u001b[39m-\u001b[39m allowance\n\u001b[0;32m    <a href='file:///c%3A/Users/MarkR/AppData/Local/Programs/Python/Python39/lib/pprint.py?line=171'>172</a>\u001b[0m \u001b[39mif\u001b[39;00m \u001b[39mlen\u001b[39m(rep) \u001b[39m>\u001b[39m max_width:\n",
      "File \u001b[1;32m~\\AppData\\Local\\Programs\\Python\\Python39\\lib\\pprint.py:431\u001b[0m, in \u001b[0;36mPrettyPrinter._repr\u001b[1;34m(self, object, context, level)\u001b[0m\n\u001b[0;32m    <a href='file:///c%3A/Users/MarkR/AppData/Local/Programs/Python/Python39/lib/pprint.py?line=429'>430</a>\u001b[0m \u001b[39mdef\u001b[39;00m \u001b[39m_repr\u001b[39m(\u001b[39mself\u001b[39m, \u001b[39mobject\u001b[39m, context, level):\n\u001b[1;32m--> <a href='file:///c%3A/Users/MarkR/AppData/Local/Programs/Python/Python39/lib/pprint.py?line=430'>431</a>\u001b[0m     \u001b[39mrepr\u001b[39m, readable, recursive \u001b[39m=\u001b[39m \u001b[39mself\u001b[39;49m\u001b[39m.\u001b[39;49mformat(\u001b[39mobject\u001b[39;49m, context\u001b[39m.\u001b[39;49mcopy(),\n\u001b[0;32m    <a href='file:///c%3A/Users/MarkR/AppData/Local/Programs/Python/Python39/lib/pprint.py?line=431'>432</a>\u001b[0m                                             \u001b[39mself\u001b[39;49m\u001b[39m.\u001b[39;49m_depth, level)\n\u001b[0;32m    <a href='file:///c%3A/Users/MarkR/AppData/Local/Programs/Python/Python39/lib/pprint.py?line=432'>433</a>\u001b[0m     \u001b[39mif\u001b[39;00m \u001b[39mnot\u001b[39;00m readable:\n\u001b[0;32m    <a href='file:///c%3A/Users/MarkR/AppData/Local/Programs/Python/Python39/lib/pprint.py?line=433'>434</a>\u001b[0m         \u001b[39mself\u001b[39m\u001b[39m.\u001b[39m_readable \u001b[39m=\u001b[39m \u001b[39mFalse\u001b[39;00m\n",
      "File \u001b[1;32m~\\AppData\\Local\\Programs\\Python\\Python39\\lib\\site-packages\\sklearn\\utils\\_pprint.py:189\u001b[0m, in \u001b[0;36m_EstimatorPrettyPrinter.format\u001b[1;34m(self, object, context, maxlevels, level)\u001b[0m\n\u001b[0;32m    <a href='file:///c%3A/Users/MarkR/AppData/Local/Programs/Python/Python39/lib/site-packages/sklearn/utils/_pprint.py?line=187'>188</a>\u001b[0m \u001b[39mdef\u001b[39;00m \u001b[39mformat\u001b[39m(\u001b[39mself\u001b[39m, \u001b[39mobject\u001b[39m, context, maxlevels, level):\n\u001b[1;32m--> <a href='file:///c%3A/Users/MarkR/AppData/Local/Programs/Python/Python39/lib/site-packages/sklearn/utils/_pprint.py?line=188'>189</a>\u001b[0m     \u001b[39mreturn\u001b[39;00m _safe_repr(\n\u001b[0;32m    <a href='file:///c%3A/Users/MarkR/AppData/Local/Programs/Python/Python39/lib/site-packages/sklearn/utils/_pprint.py?line=189'>190</a>\u001b[0m         \u001b[39mobject\u001b[39;49m, context, maxlevels, level, changed_only\u001b[39m=\u001b[39;49m\u001b[39mself\u001b[39;49m\u001b[39m.\u001b[39;49m_changed_only\n\u001b[0;32m    <a href='file:///c%3A/Users/MarkR/AppData/Local/Programs/Python/Python39/lib/site-packages/sklearn/utils/_pprint.py?line=190'>191</a>\u001b[0m     )\n",
      "File \u001b[1;32m~\\AppData\\Local\\Programs\\Python\\Python39\\lib\\site-packages\\sklearn\\utils\\_pprint.py:440\u001b[0m, in \u001b[0;36m_safe_repr\u001b[1;34m(object, context, maxlevels, level, changed_only)\u001b[0m\n\u001b[0;32m    <a href='file:///c%3A/Users/MarkR/AppData/Local/Programs/Python/Python39/lib/site-packages/sklearn/utils/_pprint.py?line=437'>438</a>\u001b[0m recursive \u001b[39m=\u001b[39m \u001b[39mFalse\u001b[39;00m\n\u001b[0;32m    <a href='file:///c%3A/Users/MarkR/AppData/Local/Programs/Python/Python39/lib/site-packages/sklearn/utils/_pprint.py?line=438'>439</a>\u001b[0m \u001b[39mif\u001b[39;00m changed_only:\n\u001b[1;32m--> <a href='file:///c%3A/Users/MarkR/AppData/Local/Programs/Python/Python39/lib/site-packages/sklearn/utils/_pprint.py?line=439'>440</a>\u001b[0m     params \u001b[39m=\u001b[39m _changed_params(\u001b[39mobject\u001b[39;49m)\n\u001b[0;32m    <a href='file:///c%3A/Users/MarkR/AppData/Local/Programs/Python/Python39/lib/site-packages/sklearn/utils/_pprint.py?line=440'>441</a>\u001b[0m \u001b[39melse\u001b[39;00m:\n\u001b[0;32m    <a href='file:///c%3A/Users/MarkR/AppData/Local/Programs/Python/Python39/lib/site-packages/sklearn/utils/_pprint.py?line=441'>442</a>\u001b[0m     params \u001b[39m=\u001b[39m \u001b[39mobject\u001b[39m\u001b[39m.\u001b[39mget_params(deep\u001b[39m=\u001b[39m\u001b[39mFalse\u001b[39;00m)\n",
      "File \u001b[1;32m~\\AppData\\Local\\Programs\\Python\\Python39\\lib\\site-packages\\sklearn\\utils\\_pprint.py:93\u001b[0m, in \u001b[0;36m_changed_params\u001b[1;34m(estimator)\u001b[0m\n\u001b[0;32m     <a href='file:///c%3A/Users/MarkR/AppData/Local/Programs/Python/Python39/lib/site-packages/sklearn/utils/_pprint.py?line=88'>89</a>\u001b[0m \u001b[39mdef\u001b[39;00m \u001b[39m_changed_params\u001b[39m(estimator):\n\u001b[0;32m     <a href='file:///c%3A/Users/MarkR/AppData/Local/Programs/Python/Python39/lib/site-packages/sklearn/utils/_pprint.py?line=89'>90</a>\u001b[0m     \u001b[39m\"\"\"Return dict (param_name: value) of parameters that were given to\u001b[39;00m\n\u001b[0;32m     <a href='file:///c%3A/Users/MarkR/AppData/Local/Programs/Python/Python39/lib/site-packages/sklearn/utils/_pprint.py?line=90'>91</a>\u001b[0m \u001b[39m    estimator with non-default values.\"\"\"\u001b[39;00m\n\u001b[1;32m---> <a href='file:///c%3A/Users/MarkR/AppData/Local/Programs/Python/Python39/lib/site-packages/sklearn/utils/_pprint.py?line=92'>93</a>\u001b[0m     params \u001b[39m=\u001b[39m estimator\u001b[39m.\u001b[39;49mget_params(deep\u001b[39m=\u001b[39;49m\u001b[39mFalse\u001b[39;49;00m)\n\u001b[0;32m     <a href='file:///c%3A/Users/MarkR/AppData/Local/Programs/Python/Python39/lib/site-packages/sklearn/utils/_pprint.py?line=93'>94</a>\u001b[0m     init_func \u001b[39m=\u001b[39m \u001b[39mgetattr\u001b[39m(estimator\u001b[39m.\u001b[39m\u001b[39m__init__\u001b[39m, \u001b[39m\"\u001b[39m\u001b[39mdeprecated_original\u001b[39m\u001b[39m\"\u001b[39m, estimator\u001b[39m.\u001b[39m\u001b[39m__init__\u001b[39m)\n\u001b[0;32m     <a href='file:///c%3A/Users/MarkR/AppData/Local/Programs/Python/Python39/lib/site-packages/sklearn/utils/_pprint.py?line=94'>95</a>\u001b[0m     init_params \u001b[39m=\u001b[39m inspect\u001b[39m.\u001b[39msignature(init_func)\u001b[39m.\u001b[39mparameters\n",
      "File \u001b[1;32m~\\AppData\\Local\\Programs\\Python\\Python39\\lib\\site-packages\\sklearn\\base.py:210\u001b[0m, in \u001b[0;36mBaseEstimator.get_params\u001b[1;34m(self, deep)\u001b[0m\n\u001b[0;32m    <a href='file:///c%3A/Users/MarkR/AppData/Local/Programs/Python/Python39/lib/site-packages/sklearn/base.py?line=207'>208</a>\u001b[0m out \u001b[39m=\u001b[39m \u001b[39mdict\u001b[39m()\n\u001b[0;32m    <a href='file:///c%3A/Users/MarkR/AppData/Local/Programs/Python/Python39/lib/site-packages/sklearn/base.py?line=208'>209</a>\u001b[0m \u001b[39mfor\u001b[39;00m key \u001b[39min\u001b[39;00m \u001b[39mself\u001b[39m\u001b[39m.\u001b[39m_get_param_names():\n\u001b[1;32m--> <a href='file:///c%3A/Users/MarkR/AppData/Local/Programs/Python/Python39/lib/site-packages/sklearn/base.py?line=209'>210</a>\u001b[0m     value \u001b[39m=\u001b[39m \u001b[39mgetattr\u001b[39;49m(\u001b[39mself\u001b[39;49m, key)\n\u001b[0;32m    <a href='file:///c%3A/Users/MarkR/AppData/Local/Programs/Python/Python39/lib/site-packages/sklearn/base.py?line=210'>211</a>\u001b[0m     \u001b[39mif\u001b[39;00m deep \u001b[39mand\u001b[39;00m \u001b[39mhasattr\u001b[39m(value, \u001b[39m\"\u001b[39m\u001b[39mget_params\u001b[39m\u001b[39m\"\u001b[39m):\n\u001b[0;32m    <a href='file:///c%3A/Users/MarkR/AppData/Local/Programs/Python/Python39/lib/site-packages/sklearn/base.py?line=211'>212</a>\u001b[0m         deep_items \u001b[39m=\u001b[39m value\u001b[39m.\u001b[39mget_params()\u001b[39m.\u001b[39mitems()\n",
      "\u001b[1;31mAttributeError\u001b[0m: 'LogisticModel' object has no attribute 'coef'"
     ]
    }
   ],
   "source": [
    "print(models)"
   ]
  },
  {
   "cell_type": "code",
   "execution_count": null,
   "metadata": {},
   "outputs": [],
   "source": [
    "f = open(\"C:\\\\Users\\\\MarkR\\\\Documents\\\\UTwente\\\\GFW model\\\\Git clone scoring\\\\vessel-scoring\\\\datasets\\\\Spire_test.json\")\n",
    "\n",
    "counter = 0\n",
    "for row in json.load(f):\n",
    "    row = row\n",
    "    row = {key: float(value) for (key, value) in row.items()\n",
    "                if key in ('timestamp', 'course', 'speed', 'lat', 'lon')\n",
    "                  and value is not None}\n",
    "    row['timestamp'] = datetime.datetime.fromtimestamp(int(row['timestamp']))\n",
    "    print(row)"
   ]
  },
  {
   "cell_type": "code",
   "execution_count": null,
   "metadata": {},
   "outputs": [],
   "source": [
    "test = messages_from_bq_dump(\"C:\\\\Users\\\\MarkR\\\\Documents\\\\UTwente\\\\GFW model\\\\Git clone scoring\\\\vessel-scoring\\\\datasets\\\\Spire_test.json\")\n",
    "\n",
    "# test2 = models['Logistic'].predict_messages(test)\n",
    "\n",
    "print(list(test))"
   ]
  },
  {
   "cell_type": "code",
   "execution_count": null,
   "metadata": {},
   "outputs": [],
   "source": [
    "messages = list(messages)\n",
    "\n",
    "m = np.zeros(len(messages), dtype=[\n",
    "        (name, 'float') for name in (\n",
    "            'lat','lon','measure_new_score','timestamp')])\n",
    "\n",
    "for idx, msg in enumerate(messages):\n",
    "    for key in m.dtype.names:\n",
    "        if key not in msg: continue\n",
    "        val = msg[key]\n",
    "        if key == 'timestamp':\n",
    "            val = (val - datetime.datetime(1970, 1, 1)).total_seconds()\n",
    "        m[idx][key] = val\n",
    "\n",
    "plt.plot(m['timestamp'], m['measure_new_score'], color='red')\n",
    "plt.show()"
   ]
  },
  {
   "cell_type": "code",
   "execution_count": null,
   "metadata": {},
   "outputs": [],
   "source": []
  }
 ],
 "metadata": {
  "interpreter": {
   "hash": "44abe5e256e12ba149f5a367b6850e27e34dff75053db33ad5072a64bb4e3474"
  },
  "kernelspec": {
   "display_name": "Python 3.9.10 64-bit",
   "language": "python",
   "name": "python3"
  },
  "language_info": {
   "codemirror_mode": {
    "name": "ipython",
    "version": 3
   },
   "file_extension": ".py",
   "mimetype": "text/x-python",
   "name": "python",
   "nbconvert_exporter": "python",
   "pygments_lexer": "ipython3",
   "version": "3.9.10"
  },
  "orig_nbformat": 4
 },
 "nbformat": 4,
 "nbformat_minor": 2
}
