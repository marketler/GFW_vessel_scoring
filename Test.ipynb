{
 "cells": [
  {
   "cell_type": "code",
   "execution_count": 1,
   "metadata": {},
   "outputs": [],
   "source": [
    "import vessel_scoring.models\n",
    "import json\n",
    "import datetime\n",
    "import numpy as np\n",
    "import matplotlib.pyplot as plt\n",
    "\n",
    "models = vessel_scoring.models.load_models()\n",
    "\n",
    "def messages_from_bq_dump(path):\n",
    "    with open(path) as f:\n",
    "        for row in json.load(f):\n",
    "            row = row\n",
    "            row = {key: float(value) for (key, value) in row.items()\n",
    "                if key in ('timestamp', 'course', 'speed', 'lat', 'lon')\n",
    "                  and value is not None}\n",
    "            row['timestamp'] = datetime.datetime.fromtimestamp(int(row['timestamp']))\n",
    "            yield row\n",
    "\n",
    "messages = models['Logistic'].predict_messages(\n",
    "    messages_from_bq_dump(\"C:\\\\Users\\\\MarkR\\\\Documents\\\\UTwente\\\\GFW model\\\\Git clone scoring\\\\vessel-scoring\\\\datasets\\\\Spire_test.json\"))"
   ]
  },
  {
   "cell_type": "code",
   "execution_count": 13,
   "metadata": {},
   "outputs": [
    {
     "name": "stdout",
     "output_type": "stream",
     "text": [
      "[]\n"
     ]
    }
   ],
   "source": [
    "print(list(messages))"
   ]
  },
  {
   "cell_type": "code",
   "execution_count": 12,
   "metadata": {},
   "outputs": [
    {
     "name": "stdout",
     "output_type": "stream",
     "text": [
      "{'timestamp': datetime.datetime(2022, 1, 6, 1, 1, 45), 'course': 144.0, 'speed': 0.2, 'lat': 1.5738166667, 'lon': 104.81515}\n"
     ]
    }
   ],
   "source": [
    "f = open(\"C:\\\\Users\\\\MarkR\\\\Documents\\\\UTwente\\\\GFW model\\\\Git clone scoring\\\\vessel-scoring\\\\datasets\\\\Spire_test.json\")\n",
    "\n",
    "all_rows = []\n",
    "counter = 0\n",
    "for row in json.load(f):\n",
    "    counter += 1\n",
    "    row = {key: float(value) for (key, value) in row.items()\n",
    "                if key in ('timestamp', 'course', 'speed', 'lat', 'lon')\n",
    "                  and value is not None}\n",
    "    row['timestamp'] = datetime.datetime.fromtimestamp(int(row['timestamp']))\n",
    "    # print(counter, row)\n",
    "    all_rows.append(row)\n",
    "\n",
    "print(all_rows[0])\n"
   ]
  },
  {
   "cell_type": "code",
   "execution_count": 28,
   "metadata": {},
   "outputs": [
    {
     "ename": "TypeError",
     "evalue": "predict_proba() missing 1 required positional argument: 'X'",
     "output_type": "error",
     "traceback": [
      "\u001b[1;31m---------------------------------------------------------------------------\u001b[0m",
      "\u001b[1;31mTypeError\u001b[0m                                 Traceback (most recent call last)",
      "Input \u001b[1;32mIn [28]\u001b[0m, in \u001b[0;36m<cell line: 7>\u001b[1;34m()\u001b[0m\n\u001b[0;32m      3\u001b[0m \u001b[39mimport\u001b[39;00m \u001b[39msix\u001b[39;00m\n\u001b[0;32m      5\u001b[0m msg \u001b[39m=\u001b[39m \u001b[39mlist\u001b[39m(vessel_scoring\u001b[39m.\u001b[39madd_measures\u001b[39m.\u001b[39mAddMeasures(all_rows))[\u001b[39m0\u001b[39m]\n\u001b[1;32m----> 7\u001b[0m msg[\u001b[39m'\u001b[39m\u001b[39mmeasure_new_score\u001b[39m\u001b[39m'\u001b[39m] \u001b[39m=\u001b[39m \u001b[39mfloat\u001b[39m(logistic_model\u001b[39m.\u001b[39;49mLogisticModel\u001b[39m.\u001b[39;49mpredict_proba({\n\u001b[0;32m      8\u001b[0m                             key: [value]\n\u001b[0;32m      9\u001b[0m                             \u001b[39mfor\u001b[39;49;00m key, value \u001b[39min\u001b[39;49;00m six\u001b[39m.\u001b[39;49miteritems(msg)\n\u001b[0;32m     10\u001b[0m                             })[\u001b[39m0\u001b[39m][\u001b[39m1\u001b[39m])\n\u001b[0;32m     12\u001b[0m msg\n",
      "\u001b[1;31mTypeError\u001b[0m: predict_proba() missing 1 required positional argument: 'X'"
     ]
    }
   ],
   "source": [
    "import vessel_scoring.add_measures\n",
    "from vessel_scoring import logistic_model\n",
    "import six\n",
    "\n",
    "msg = list(vessel_scoring.add_measures.AddMeasures(all_rows))[0]\n",
    "\n",
    "msg['measure_new_score'] = float(self.predict_proba({\n",
    "                            key: [value]\n",
    "                            for key, value in six.iteritems(msg)\n",
    "                            })[0][1])\n"
   ]
  },
  {
   "cell_type": "code",
   "execution_count": 3,
   "metadata": {},
   "outputs": [
    {
     "ename": "NotFittedError",
     "evalue": "This LogisticModel instance is not fitted yet. Call 'fit' with appropriate arguments before using this estimator.",
     "output_type": "error",
     "traceback": [
      "\u001b[1;31m---------------------------------------------------------------------------\u001b[0m",
      "\u001b[1;31mNotFittedError\u001b[0m                            Traceback (most recent call last)",
      "Input \u001b[1;32mIn [3]\u001b[0m, in \u001b[0;36m<cell line: 1>\u001b[1;34m()\u001b[0m\n\u001b[1;32m----> 1\u001b[0m messages \u001b[39m=\u001b[39m \u001b[39mlist\u001b[39;49m(messages)\n\u001b[0;32m      3\u001b[0m m \u001b[39m=\u001b[39m np\u001b[39m.\u001b[39mzeros(\u001b[39mlen\u001b[39m(messages), dtype\u001b[39m=\u001b[39m[\n\u001b[0;32m      4\u001b[0m         (name, \u001b[39m'\u001b[39m\u001b[39mfloat\u001b[39m\u001b[39m'\u001b[39m) \u001b[39mfor\u001b[39;00m name \u001b[39min\u001b[39;00m (\n\u001b[0;32m      5\u001b[0m             \u001b[39m'\u001b[39m\u001b[39mlat\u001b[39m\u001b[39m'\u001b[39m,\u001b[39m'\u001b[39m\u001b[39mlon\u001b[39m\u001b[39m'\u001b[39m,\u001b[39m'\u001b[39m\u001b[39mmeasure_new_score\u001b[39m\u001b[39m'\u001b[39m,\u001b[39m'\u001b[39m\u001b[39mtimestamp\u001b[39m\u001b[39m'\u001b[39m)])\n\u001b[0;32m      7\u001b[0m \u001b[39mfor\u001b[39;00m idx, msg \u001b[39min\u001b[39;00m \u001b[39menumerate\u001b[39m(messages):\n",
      "File \u001b[1;32mc:\\Users\\MarkR\\Documents\\GitHub\\GFW_vessel_scoring\\vessel_scoring\\base_model.py:16\u001b[0m, in \u001b[0;36mBaseModel.predict_messages\u001b[1;34m(self, messages)\u001b[0m\n\u001b[0;32m     <a href='file:///c%3A/Users/MarkR/Documents/GitHub/GFW_vessel_scoring/vessel_scoring/base_model.py?line=11'>12</a>\u001b[0m \u001b[39mfor\u001b[39;00m msg \u001b[39min\u001b[39;00m vessel_scoring\u001b[39m.\u001b[39madd_measures\u001b[39m.\u001b[39mAddMeasures(messages, \u001b[39mself\u001b[39m\u001b[39m.\u001b[39mwindows):\n\u001b[0;32m     <a href='file:///c%3A/Users/MarkR/Documents/GitHub/GFW_vessel_scoring/vessel_scoring/base_model.py?line=12'>13</a>\u001b[0m     \u001b[39mif\u001b[39;00m (msg\u001b[39m.\u001b[39mget(\u001b[39m'\u001b[39m\u001b[39mtimestamp\u001b[39m\u001b[39m'\u001b[39m, \u001b[39mNone\u001b[39;00m) \u001b[39mis\u001b[39;00m \u001b[39mnot\u001b[39;00m \u001b[39mNone\u001b[39;00m \u001b[39mand\u001b[39;00m\n\u001b[0;32m     <a href='file:///c%3A/Users/MarkR/Documents/GitHub/GFW_vessel_scoring/vessel_scoring/base_model.py?line=13'>14</a>\u001b[0m         msg\u001b[39m.\u001b[39mget(\u001b[39m'\u001b[39m\u001b[39mspeed\u001b[39m\u001b[39m'\u001b[39m, \u001b[39mNone\u001b[39;00m) \u001b[39mis\u001b[39;00m \u001b[39mnot\u001b[39;00m \u001b[39mNone\u001b[39;00m \u001b[39mand\u001b[39;00m\n\u001b[0;32m     <a href='file:///c%3A/Users/MarkR/Documents/GitHub/GFW_vessel_scoring/vessel_scoring/base_model.py?line=14'>15</a>\u001b[0m         msg\u001b[39m.\u001b[39mget(\u001b[39m'\u001b[39m\u001b[39mcourse\u001b[39m\u001b[39m'\u001b[39m, \u001b[39mNone\u001b[39;00m) \u001b[39mis\u001b[39;00m \u001b[39mnot\u001b[39;00m \u001b[39mNone\u001b[39;00m):\n\u001b[1;32m---> <a href='file:///c%3A/Users/MarkR/Documents/GitHub/GFW_vessel_scoring/vessel_scoring/base_model.py?line=15'>16</a>\u001b[0m         msg[\u001b[39m'\u001b[39m\u001b[39mmeasure_new_score\u001b[39m\u001b[39m'\u001b[39m] \u001b[39m=\u001b[39m \u001b[39mfloat\u001b[39m(\u001b[39mself\u001b[39;49m\u001b[39m.\u001b[39;49mpredict_proba({\n\u001b[0;32m     <a href='file:///c%3A/Users/MarkR/Documents/GitHub/GFW_vessel_scoring/vessel_scoring/base_model.py?line=16'>17</a>\u001b[0m                     key: [value]\n\u001b[0;32m     <a href='file:///c%3A/Users/MarkR/Documents/GitHub/GFW_vessel_scoring/vessel_scoring/base_model.py?line=17'>18</a>\u001b[0m                     \u001b[39mfor\u001b[39;49;00m key, value \u001b[39min\u001b[39;49;00m six\u001b[39m.\u001b[39;49miteritems(msg)\n\u001b[0;32m     <a href='file:///c%3A/Users/MarkR/Documents/GitHub/GFW_vessel_scoring/vessel_scoring/base_model.py?line=18'>19</a>\u001b[0m                     })[\u001b[39m0\u001b[39m][\u001b[39m1\u001b[39m])\n\u001b[0;32m     <a href='file:///c%3A/Users/MarkR/Documents/GitHub/GFW_vessel_scoring/vessel_scoring/base_model.py?line=19'>20</a>\u001b[0m     \u001b[39myield\u001b[39;00m msg\n",
      "File \u001b[1;32mc:\\Users\\MarkR\\Documents\\GitHub\\GFW_vessel_scoring\\vessel_scoring\\logistic_model.py:69\u001b[0m, in \u001b[0;36mLogisticModel.predict_proba\u001b[1;34m(self, X)\u001b[0m\n\u001b[0;32m     <a href='file:///c%3A/Users/MarkR/Documents/GitHub/GFW_vessel_scoring/vessel_scoring/logistic_model.py?line=66'>67</a>\u001b[0m \u001b[39m\"\"\"Predict probabilities based on feature vector `X`\"\"\"\u001b[39;00m\n\u001b[0;32m     <a href='file:///c%3A/Users/MarkR/Documents/GitHub/GFW_vessel_scoring/vessel_scoring/logistic_model.py?line=67'>68</a>\u001b[0m X \u001b[39m=\u001b[39m \u001b[39mself\u001b[39m\u001b[39m.\u001b[39m_make_features(X)\n\u001b[1;32m---> <a href='file:///c%3A/Users/MarkR/Documents/GitHub/GFW_vessel_scoring/vessel_scoring/logistic_model.py?line=68'>69</a>\u001b[0m \u001b[39mreturn\u001b[39;00m LogisticRegression\u001b[39m.\u001b[39;49mpredict_proba(\u001b[39mself\u001b[39;49m, X)\n",
      "File \u001b[1;32m~\\AppData\\Local\\Programs\\Python\\Python39\\lib\\site-packages\\sklearn\\linear_model\\_logistic.py:1663\u001b[0m, in \u001b[0;36mLogisticRegression.predict_proba\u001b[1;34m(self, X)\u001b[0m\n\u001b[0;32m   <a href='file:///c%3A/Users/MarkR/AppData/Local/Programs/Python/Python39/lib/site-packages/sklearn/linear_model/_logistic.py?line=1636'>1637</a>\u001b[0m \u001b[39mdef\u001b[39;00m \u001b[39mpredict_proba\u001b[39m(\u001b[39mself\u001b[39m, X):\n\u001b[0;32m   <a href='file:///c%3A/Users/MarkR/AppData/Local/Programs/Python/Python39/lib/site-packages/sklearn/linear_model/_logistic.py?line=1637'>1638</a>\u001b[0m     \u001b[39m\"\"\"\u001b[39;00m\n\u001b[0;32m   <a href='file:///c%3A/Users/MarkR/AppData/Local/Programs/Python/Python39/lib/site-packages/sklearn/linear_model/_logistic.py?line=1638'>1639</a>\u001b[0m \u001b[39m    Probability estimates.\u001b[39;00m\n\u001b[0;32m   <a href='file:///c%3A/Users/MarkR/AppData/Local/Programs/Python/Python39/lib/site-packages/sklearn/linear_model/_logistic.py?line=1639'>1640</a>\u001b[0m \n\u001b[1;32m   (...)\u001b[0m\n\u001b[0;32m   <a href='file:///c%3A/Users/MarkR/AppData/Local/Programs/Python/Python39/lib/site-packages/sklearn/linear_model/_logistic.py?line=1660'>1661</a>\u001b[0m \u001b[39m        where classes are ordered as they are in ``self.classes_``.\u001b[39;00m\n\u001b[0;32m   <a href='file:///c%3A/Users/MarkR/AppData/Local/Programs/Python/Python39/lib/site-packages/sklearn/linear_model/_logistic.py?line=1661'>1662</a>\u001b[0m \u001b[39m    \"\"\"\u001b[39;00m\n\u001b[1;32m-> <a href='file:///c%3A/Users/MarkR/AppData/Local/Programs/Python/Python39/lib/site-packages/sklearn/linear_model/_logistic.py?line=1662'>1663</a>\u001b[0m     check_is_fitted(\u001b[39mself\u001b[39;49m)\n\u001b[0;32m   <a href='file:///c%3A/Users/MarkR/AppData/Local/Programs/Python/Python39/lib/site-packages/sklearn/linear_model/_logistic.py?line=1664'>1665</a>\u001b[0m     ovr \u001b[39m=\u001b[39m \u001b[39mself\u001b[39m\u001b[39m.\u001b[39mmulti_class \u001b[39min\u001b[39;00m [\u001b[39m\"\u001b[39m\u001b[39movr\u001b[39m\u001b[39m\"\u001b[39m, \u001b[39m\"\u001b[39m\u001b[39mwarn\u001b[39m\u001b[39m\"\u001b[39m] \u001b[39mor\u001b[39;00m (\n\u001b[0;32m   <a href='file:///c%3A/Users/MarkR/AppData/Local/Programs/Python/Python39/lib/site-packages/sklearn/linear_model/_logistic.py?line=1665'>1666</a>\u001b[0m         \u001b[39mself\u001b[39m\u001b[39m.\u001b[39mmulti_class \u001b[39m==\u001b[39m \u001b[39m\"\u001b[39m\u001b[39mauto\u001b[39m\u001b[39m\"\u001b[39m\n\u001b[0;32m   <a href='file:///c%3A/Users/MarkR/AppData/Local/Programs/Python/Python39/lib/site-packages/sklearn/linear_model/_logistic.py?line=1666'>1667</a>\u001b[0m         \u001b[39mand\u001b[39;00m (\u001b[39mself\u001b[39m\u001b[39m.\u001b[39mclasses_\u001b[39m.\u001b[39msize \u001b[39m<\u001b[39m\u001b[39m=\u001b[39m \u001b[39m2\u001b[39m \u001b[39mor\u001b[39;00m \u001b[39mself\u001b[39m\u001b[39m.\u001b[39msolver \u001b[39m==\u001b[39m \u001b[39m\"\u001b[39m\u001b[39mliblinear\u001b[39m\u001b[39m\"\u001b[39m)\n\u001b[0;32m   <a href='file:///c%3A/Users/MarkR/AppData/Local/Programs/Python/Python39/lib/site-packages/sklearn/linear_model/_logistic.py?line=1667'>1668</a>\u001b[0m     )\n\u001b[0;32m   <a href='file:///c%3A/Users/MarkR/AppData/Local/Programs/Python/Python39/lib/site-packages/sklearn/linear_model/_logistic.py?line=1668'>1669</a>\u001b[0m     \u001b[39mif\u001b[39;00m ovr:\n",
      "File \u001b[1;32m~\\AppData\\Local\\Programs\\Python\\Python39\\lib\\site-packages\\sklearn\\utils\\validation.py:1222\u001b[0m, in \u001b[0;36mcheck_is_fitted\u001b[1;34m(estimator, attributes, msg, all_or_any)\u001b[0m\n\u001b[0;32m   <a href='file:///c%3A/Users/MarkR/AppData/Local/Programs/Python/Python39/lib/site-packages/sklearn/utils/validation.py?line=1216'>1217</a>\u001b[0m     fitted \u001b[39m=\u001b[39m [\n\u001b[0;32m   <a href='file:///c%3A/Users/MarkR/AppData/Local/Programs/Python/Python39/lib/site-packages/sklearn/utils/validation.py?line=1217'>1218</a>\u001b[0m         v \u001b[39mfor\u001b[39;00m v \u001b[39min\u001b[39;00m \u001b[39mvars\u001b[39m(estimator) \u001b[39mif\u001b[39;00m v\u001b[39m.\u001b[39mendswith(\u001b[39m\"\u001b[39m\u001b[39m_\u001b[39m\u001b[39m\"\u001b[39m) \u001b[39mand\u001b[39;00m \u001b[39mnot\u001b[39;00m v\u001b[39m.\u001b[39mstartswith(\u001b[39m\"\u001b[39m\u001b[39m__\u001b[39m\u001b[39m\"\u001b[39m)\n\u001b[0;32m   <a href='file:///c%3A/Users/MarkR/AppData/Local/Programs/Python/Python39/lib/site-packages/sklearn/utils/validation.py?line=1218'>1219</a>\u001b[0m     ]\n\u001b[0;32m   <a href='file:///c%3A/Users/MarkR/AppData/Local/Programs/Python/Python39/lib/site-packages/sklearn/utils/validation.py?line=1220'>1221</a>\u001b[0m \u001b[39mif\u001b[39;00m \u001b[39mnot\u001b[39;00m fitted:\n\u001b[1;32m-> <a href='file:///c%3A/Users/MarkR/AppData/Local/Programs/Python/Python39/lib/site-packages/sklearn/utils/validation.py?line=1221'>1222</a>\u001b[0m     \u001b[39mraise\u001b[39;00m NotFittedError(msg \u001b[39m%\u001b[39m {\u001b[39m\"\u001b[39m\u001b[39mname\u001b[39m\u001b[39m\"\u001b[39m: \u001b[39mtype\u001b[39m(estimator)\u001b[39m.\u001b[39m\u001b[39m__name__\u001b[39m})\n",
      "\u001b[1;31mNotFittedError\u001b[0m: This LogisticModel instance is not fitted yet. Call 'fit' with appropriate arguments before using this estimator."
     ]
    }
   ],
   "source": [
    "messages = list(messages)\n",
    "\n",
    "m = np.zeros(len(messages), dtype=[\n",
    "        (name, 'float') for name in (\n",
    "            'lat','lon','measure_new_score','timestamp')])\n",
    "\n",
    "for idx, msg in enumerate(messages):\n",
    "    for key in m.dtype.names:\n",
    "        if key not in msg: continue\n",
    "        val = msg[key]\n",
    "        if key == 'timestamp':\n",
    "            val = (val - datetime.datetime(1970, 1, 1)).total_seconds()\n",
    "        m[idx][key] = val\n",
    "\n",
    "plt.plot(m['timestamp'], m['measure_new_score'], color='red')\n",
    "plt.show()"
   ]
  },
  {
   "cell_type": "code",
   "execution_count": null,
   "metadata": {},
   "outputs": [],
   "source": []
  }
 ],
 "metadata": {
  "interpreter": {
   "hash": "44abe5e256e12ba149f5a367b6850e27e34dff75053db33ad5072a64bb4e3474"
  },
  "kernelspec": {
   "display_name": "Python 3.9.10 64-bit",
   "language": "python",
   "name": "python3"
  },
  "language_info": {
   "codemirror_mode": {
    "name": "ipython",
    "version": 3
   },
   "file_extension": ".py",
   "mimetype": "text/x-python",
   "name": "python",
   "nbconvert_exporter": "python",
   "pygments_lexer": "ipython3",
   "version": "3.9.10"
  },
  "orig_nbformat": 4
 },
 "nbformat": 4,
 "nbformat_minor": 2
}
