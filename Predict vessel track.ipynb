{
 "cells": [
  {
   "cell_type": "code",
   "execution_count": 1,
   "metadata": {
    "collapsed": false
   },
   "outputs": [],
   "source": [
    "import vessel_scoring.models\n",
    "import json\n",
    "import datetime\n",
    "import numpy as np\n",
    "import matplotlib.pyplot as plt"
   ]
  },
  {
   "cell_type": "code",
   "execution_count": 2,
   "metadata": {
    "collapsed": false
   },
   "outputs": [],
   "source": [
    "models = vessel_scoring.models.load_models()"
   ]
  },
  {
   "cell_type": "code",
   "execution_count": 3,
   "metadata": {
    "collapsed": true
   },
   "outputs": [],
   "source": [
    "def messages_from_bq_dump(path):\n",
    "    with open(path) as f:\n",
    "        for row in json.load(f):\n",
    "            # row = row\n",
    "            distance = row.get('distance_from_shore')\n",
    "            row = {key: value for (key, value) in row.items()\n",
    "                if key in ('timestamp', 'course', 'speed')}\n",
    "            row['timestamp'] = datetime.datetime.fromtimestamp(int(row['timestamp']))\n",
    "            if row.get('course') is not None:\n",
    "                row['course'] = float(row['course'])\n",
    "            if row.get('speed') is not None:\n",
    "                row['speed'] = float(row['speed'])\n",
    "            if distance is not None and float(distance) / 1852.0 < 3:\n",
    "                row = {'ignore': row}\n",
    "            yield row"
   ]
  },
  {
   "cell_type": "code",
   "execution_count": 4,
   "metadata": {
    "collapsed": true
   },
   "outputs": [],
   "source": [
    "messages = models['Logistic'].predict_messages(\n",
    "    messages_from_bq_dump(\"datasets\\Spire_test.json\"))"
   ]
  },
  {
   "cell_type": "code",
   "execution_count": 5,
   "metadata": {},
   "outputs": [
    {
     "ename": "RecursionError",
     "evalue": "maximum recursion depth exceeded while calling a Python object",
     "output_type": "error",
     "traceback": [
      "\u001b[1;31m---------------------------------------------------------------------------\u001b[0m",
      "\u001b[1;31mNonPositivePopulationSize\u001b[0m                 Traceback (most recent call last)",
      "    \u001b[1;31m[... skipping hidden 1 frame]\u001b[0m\n",
      "Input \u001b[1;32mIn [5]\u001b[0m, in \u001b[0;36m<cell line: 1>\u001b[1;34m()\u001b[0m\n\u001b[1;32m----> 1\u001b[0m \u001b[39mprint\u001b[39m(\u001b[39mlist\u001b[39;49m(messages))\n",
      "File \u001b[1;32mc:\\Users\\MarkR\\Documents\\GitHub\\GFW_vessel_scoring\\vessel_scoring\\base_model.py:12\u001b[0m, in \u001b[0;36mBaseModel.predict_messages\u001b[1;34m(self, messages)\u001b[0m\n\u001b[0;32m     <a href='file:///c%3A/Users/MarkR/Documents/GitHub/GFW_vessel_scoring/vessel_scoring/base_model.py?line=10'>11</a>\u001b[0m \u001b[39mdef\u001b[39;00m \u001b[39mpredict_messages\u001b[39m(\u001b[39mself\u001b[39m, messages):\n\u001b[1;32m---> <a href='file:///c%3A/Users/MarkR/Documents/GitHub/GFW_vessel_scoring/vessel_scoring/base_model.py?line=11'>12</a>\u001b[0m     \u001b[39mfor\u001b[39;00m msg \u001b[39min\u001b[39;00m vessel_scoring\u001b[39m.\u001b[39madd_measures\u001b[39m.\u001b[39mAddMeasures(messages, \u001b[39mself\u001b[39m\u001b[39m.\u001b[39mwindows):\n\u001b[0;32m     <a href='file:///c%3A/Users/MarkR/Documents/GitHub/GFW_vessel_scoring/vessel_scoring/base_model.py?line=12'>13</a>\u001b[0m         \u001b[39mif\u001b[39;00m (msg\u001b[39m.\u001b[39mget(\u001b[39m'\u001b[39m\u001b[39mtimestamp\u001b[39m\u001b[39m'\u001b[39m, \u001b[39mNone\u001b[39;00m) \u001b[39mis\u001b[39;00m \u001b[39mnot\u001b[39;00m \u001b[39mNone\u001b[39;00m \u001b[39mand\u001b[39;00m\n\u001b[0;32m     <a href='file:///c%3A/Users/MarkR/Documents/GitHub/GFW_vessel_scoring/vessel_scoring/base_model.py?line=13'>14</a>\u001b[0m             msg\u001b[39m.\u001b[39mget(\u001b[39m'\u001b[39m\u001b[39mspeed\u001b[39m\u001b[39m'\u001b[39m, \u001b[39mNone\u001b[39;00m) \u001b[39mis\u001b[39;00m \u001b[39mnot\u001b[39;00m \u001b[39mNone\u001b[39;00m \u001b[39mand\u001b[39;00m\n\u001b[0;32m     <a href='file:///c%3A/Users/MarkR/Documents/GitHub/GFW_vessel_scoring/vessel_scoring/base_model.py?line=14'>15</a>\u001b[0m             msg\u001b[39m.\u001b[39mget(\u001b[39m'\u001b[39m\u001b[39mcourse\u001b[39m\u001b[39m'\u001b[39m, \u001b[39mNone\u001b[39;00m) \u001b[39mis\u001b[39;00m \u001b[39mnot\u001b[39;00m \u001b[39mNone\u001b[39;00m):\n",
      "File \u001b[1;32mc:\\Users\\MarkR\\Documents\\GitHub\\GFW_vessel_scoring\\vessel_scoring\\add_measures.py:179\u001b[0m, in \u001b[0;36mAddWindowMeasures.process\u001b[1;34m(self)\u001b[0m\n\u001b[0;32m    <a href='file:///c%3A/Users/MarkR/Documents/GitHub/GFW_vessel_scoring/vessel_scoring/add_measures.py?line=172'>173</a>\u001b[0m     \u001b[39mreturn\u001b[39;00m (x \u001b[39mand\u001b[39;00m\n\u001b[0;32m    <a href='file:///c%3A/Users/MarkR/Documents/GitHub/GFW_vessel_scoring/vessel_scoring/add_measures.py?line=173'>174</a>\u001b[0m             x\u001b[39m.\u001b[39mget(\u001b[39m'\u001b[39m\u001b[39mtimestamp\u001b[39m\u001b[39m'\u001b[39m) \u001b[39mis\u001b[39;00m \u001b[39mnot\u001b[39;00m \u001b[39mNone\u001b[39;00m \u001b[39mand\u001b[39;00m\n\u001b[0;32m    <a href='file:///c%3A/Users/MarkR/Documents/GitHub/GFW_vessel_scoring/vessel_scoring/add_measures.py?line=174'>175</a>\u001b[0m             x\u001b[39m.\u001b[39mget(\u001b[39m'\u001b[39m\u001b[39mcourse\u001b[39m\u001b[39m'\u001b[39m) \u001b[39mis\u001b[39;00m \u001b[39mnot\u001b[39;00m \u001b[39mNone\u001b[39;00m \u001b[39mand\u001b[39;00m                    \n\u001b[0;32m    <a href='file:///c%3A/Users/MarkR/Documents/GitHub/GFW_vessel_scoring/vessel_scoring/add_measures.py?line=175'>176</a>\u001b[0m             x\u001b[39m.\u001b[39mget(\u001b[39m'\u001b[39m\u001b[39mspeed\u001b[39m\u001b[39m'\u001b[39m) \u001b[39mis\u001b[39;00m \u001b[39mnot\u001b[39;00m \u001b[39mNone\u001b[39;00m \n\u001b[0;32m    <a href='file:///c%3A/Users/MarkR/Documents/GitHub/GFW_vessel_scoring/vessel_scoring/add_measures.py?line=176'>177</a>\u001b[0m             )\n\u001b[1;32m--> <a href='file:///c%3A/Users/MarkR/Documents/GitHub/GFW_vessel_scoring/vessel_scoring/add_measures.py?line=178'>179</a>\u001b[0m \u001b[39mfor\u001b[39;00m \u001b[39mself\u001b[39m\u001b[39m.\u001b[39mmiddleidx, \u001b[39mself\u001b[39m\u001b[39m.\u001b[39mmiddle \u001b[39min\u001b[39;00m \u001b[39mself\u001b[39m\u001b[39m.\u001b[39mmiddleIn:\n\u001b[0;32m    <a href='file:///c%3A/Users/MarkR/Documents/GitHub/GFW_vessel_scoring/vessel_scoring/add_measures.py?line=179'>180</a>\u001b[0m     \u001b[39mif\u001b[39;00m valid(\u001b[39mself\u001b[39m\u001b[39m.\u001b[39mmiddle):\n",
      "File \u001b[1;32mc:\\Users\\MarkR\\Documents\\GitHub\\GFW_vessel_scoring\\vessel_scoring\\add_measures.py:125\u001b[0m, in \u001b[0;36mAddWindowMeasures.load_lines\u001b[1;34m(self, in_file)\u001b[0m\n\u001b[0;32m    <a href='file:///c%3A/Users/MarkR/Documents/GitHub/GFW_vessel_scoring/vessel_scoring/add_measures.py?line=123'>124</a>\u001b[0m \u001b[39mdef\u001b[39;00m \u001b[39mload_lines\u001b[39m(\u001b[39mself\u001b[39m, in_file):\n\u001b[1;32m--> <a href='file:///c%3A/Users/MarkR/Documents/GitHub/GFW_vessel_scoring/vessel_scoring/add_measures.py?line=124'>125</a>\u001b[0m     \u001b[39mfor\u001b[39;00m idx, line \u001b[39min\u001b[39;00m \u001b[39menumerate\u001b[39m(in_file):\n\u001b[0;32m    <a href='file:///c%3A/Users/MarkR/Documents/GitHub/GFW_vessel_scoring/vessel_scoring/add_measures.py?line=125'>126</a>\u001b[0m         \u001b[39myield\u001b[39;00m idx, line\n",
      "File \u001b[1;32mc:\\Users\\MarkR\\Documents\\GitHub\\GFW_vessel_scoring\\vessel_scoring\\add_measures.py:179\u001b[0m, in \u001b[0;36mAddWindowMeasures.process\u001b[1;34m(self)\u001b[0m\n\u001b[0;32m    <a href='file:///c%3A/Users/MarkR/Documents/GitHub/GFW_vessel_scoring/vessel_scoring/add_measures.py?line=172'>173</a>\u001b[0m     \u001b[39mreturn\u001b[39;00m (x \u001b[39mand\u001b[39;00m\n\u001b[0;32m    <a href='file:///c%3A/Users/MarkR/Documents/GitHub/GFW_vessel_scoring/vessel_scoring/add_measures.py?line=173'>174</a>\u001b[0m             x\u001b[39m.\u001b[39mget(\u001b[39m'\u001b[39m\u001b[39mtimestamp\u001b[39m\u001b[39m'\u001b[39m) \u001b[39mis\u001b[39;00m \u001b[39mnot\u001b[39;00m \u001b[39mNone\u001b[39;00m \u001b[39mand\u001b[39;00m\n\u001b[0;32m    <a href='file:///c%3A/Users/MarkR/Documents/GitHub/GFW_vessel_scoring/vessel_scoring/add_measures.py?line=174'>175</a>\u001b[0m             x\u001b[39m.\u001b[39mget(\u001b[39m'\u001b[39m\u001b[39mcourse\u001b[39m\u001b[39m'\u001b[39m) \u001b[39mis\u001b[39;00m \u001b[39mnot\u001b[39;00m \u001b[39mNone\u001b[39;00m \u001b[39mand\u001b[39;00m                    \n\u001b[0;32m    <a href='file:///c%3A/Users/MarkR/Documents/GitHub/GFW_vessel_scoring/vessel_scoring/add_measures.py?line=175'>176</a>\u001b[0m             x\u001b[39m.\u001b[39mget(\u001b[39m'\u001b[39m\u001b[39mspeed\u001b[39m\u001b[39m'\u001b[39m) \u001b[39mis\u001b[39;00m \u001b[39mnot\u001b[39;00m \u001b[39mNone\u001b[39;00m \n\u001b[0;32m    <a href='file:///c%3A/Users/MarkR/Documents/GitHub/GFW_vessel_scoring/vessel_scoring/add_measures.py?line=176'>177</a>\u001b[0m             )\n\u001b[1;32m--> <a href='file:///c%3A/Users/MarkR/Documents/GitHub/GFW_vessel_scoring/vessel_scoring/add_measures.py?line=178'>179</a>\u001b[0m \u001b[39mfor\u001b[39;00m \u001b[39mself\u001b[39m\u001b[39m.\u001b[39mmiddleidx, \u001b[39mself\u001b[39m\u001b[39m.\u001b[39mmiddle \u001b[39min\u001b[39;00m \u001b[39mself\u001b[39m\u001b[39m.\u001b[39mmiddleIn:\n\u001b[0;32m    <a href='file:///c%3A/Users/MarkR/Documents/GitHub/GFW_vessel_scoring/vessel_scoring/add_measures.py?line=179'>180</a>\u001b[0m     \u001b[39mif\u001b[39;00m valid(\u001b[39mself\u001b[39m\u001b[39m.\u001b[39mmiddle):\n",
      "File \u001b[1;32mc:\\Users\\MarkR\\Documents\\GitHub\\GFW_vessel_scoring\\vessel_scoring\\add_measures.py:125\u001b[0m, in \u001b[0;36mAddWindowMeasures.load_lines\u001b[1;34m(self, in_file)\u001b[0m\n\u001b[0;32m    <a href='file:///c%3A/Users/MarkR/Documents/GitHub/GFW_vessel_scoring/vessel_scoring/add_measures.py?line=123'>124</a>\u001b[0m \u001b[39mdef\u001b[39;00m \u001b[39mload_lines\u001b[39m(\u001b[39mself\u001b[39m, in_file):\n\u001b[1;32m--> <a href='file:///c%3A/Users/MarkR/Documents/GitHub/GFW_vessel_scoring/vessel_scoring/add_measures.py?line=124'>125</a>\u001b[0m     \u001b[39mfor\u001b[39;00m idx, line \u001b[39min\u001b[39;00m \u001b[39menumerate\u001b[39m(in_file):\n\u001b[0;32m    <a href='file:///c%3A/Users/MarkR/Documents/GitHub/GFW_vessel_scoring/vessel_scoring/add_measures.py?line=125'>126</a>\u001b[0m         \u001b[39myield\u001b[39;00m idx, line\n",
      "    \u001b[1;31m[... skipping similar frames: AddWindowMeasures.load_lines at line 125 (2 times), AddWindowMeasures.process at line 179 (2 times)]\u001b[0m\n",
      "File \u001b[1;32mc:\\Users\\MarkR\\Documents\\GitHub\\GFW_vessel_scoring\\vessel_scoring\\add_measures.py:179\u001b[0m, in \u001b[0;36mAddWindowMeasures.process\u001b[1;34m(self)\u001b[0m\n\u001b[0;32m    <a href='file:///c%3A/Users/MarkR/Documents/GitHub/GFW_vessel_scoring/vessel_scoring/add_measures.py?line=172'>173</a>\u001b[0m     \u001b[39mreturn\u001b[39;00m (x \u001b[39mand\u001b[39;00m\n\u001b[0;32m    <a href='file:///c%3A/Users/MarkR/Documents/GitHub/GFW_vessel_scoring/vessel_scoring/add_measures.py?line=173'>174</a>\u001b[0m             x\u001b[39m.\u001b[39mget(\u001b[39m'\u001b[39m\u001b[39mtimestamp\u001b[39m\u001b[39m'\u001b[39m) \u001b[39mis\u001b[39;00m \u001b[39mnot\u001b[39;00m \u001b[39mNone\u001b[39;00m \u001b[39mand\u001b[39;00m\n\u001b[0;32m    <a href='file:///c%3A/Users/MarkR/Documents/GitHub/GFW_vessel_scoring/vessel_scoring/add_measures.py?line=174'>175</a>\u001b[0m             x\u001b[39m.\u001b[39mget(\u001b[39m'\u001b[39m\u001b[39mcourse\u001b[39m\u001b[39m'\u001b[39m) \u001b[39mis\u001b[39;00m \u001b[39mnot\u001b[39;00m \u001b[39mNone\u001b[39;00m \u001b[39mand\u001b[39;00m                    \n\u001b[0;32m    <a href='file:///c%3A/Users/MarkR/Documents/GitHub/GFW_vessel_scoring/vessel_scoring/add_measures.py?line=175'>176</a>\u001b[0m             x\u001b[39m.\u001b[39mget(\u001b[39m'\u001b[39m\u001b[39mspeed\u001b[39m\u001b[39m'\u001b[39m) \u001b[39mis\u001b[39;00m \u001b[39mnot\u001b[39;00m \u001b[39mNone\u001b[39;00m \n\u001b[0;32m    <a href='file:///c%3A/Users/MarkR/Documents/GitHub/GFW_vessel_scoring/vessel_scoring/add_measures.py?line=176'>177</a>\u001b[0m             )\n\u001b[1;32m--> <a href='file:///c%3A/Users/MarkR/Documents/GitHub/GFW_vessel_scoring/vessel_scoring/add_measures.py?line=178'>179</a>\u001b[0m \u001b[39mfor\u001b[39;00m \u001b[39mself\u001b[39m\u001b[39m.\u001b[39mmiddleidx, \u001b[39mself\u001b[39m\u001b[39m.\u001b[39mmiddle \u001b[39min\u001b[39;00m \u001b[39mself\u001b[39m\u001b[39m.\u001b[39mmiddleIn:\n\u001b[0;32m    <a href='file:///c%3A/Users/MarkR/Documents/GitHub/GFW_vessel_scoring/vessel_scoring/add_measures.py?line=179'>180</a>\u001b[0m     \u001b[39mif\u001b[39;00m valid(\u001b[39mself\u001b[39m\u001b[39m.\u001b[39mmiddle):\n",
      "File \u001b[1;32mc:\\Users\\MarkR\\Documents\\GitHub\\GFW_vessel_scoring\\vessel_scoring\\add_measures.py:125\u001b[0m, in \u001b[0;36mAddWindowMeasures.load_lines\u001b[1;34m(self, in_file)\u001b[0m\n\u001b[0;32m    <a href='file:///c%3A/Users/MarkR/Documents/GitHub/GFW_vessel_scoring/vessel_scoring/add_measures.py?line=123'>124</a>\u001b[0m \u001b[39mdef\u001b[39;00m \u001b[39mload_lines\u001b[39m(\u001b[39mself\u001b[39m, in_file):\n\u001b[1;32m--> <a href='file:///c%3A/Users/MarkR/Documents/GitHub/GFW_vessel_scoring/vessel_scoring/add_measures.py?line=124'>125</a>\u001b[0m     \u001b[39mfor\u001b[39;00m idx, line \u001b[39min\u001b[39;00m \u001b[39menumerate\u001b[39m(in_file):\n\u001b[0;32m    <a href='file:///c%3A/Users/MarkR/Documents/GitHub/GFW_vessel_scoring/vessel_scoring/add_measures.py?line=125'>126</a>\u001b[0m         \u001b[39myield\u001b[39;00m idx, line\n",
      "File \u001b[1;32mc:\\Users\\MarkR\\Documents\\GitHub\\GFW_vessel_scoring\\vessel_scoring\\add_measures.py:211\u001b[0m, in \u001b[0;36mAddWindowMeasures.process\u001b[1;34m(self)\u001b[0m\n\u001b[0;32m    <a href='file:///c%3A/Users/MarkR/Documents/GitHub/GFW_vessel_scoring/vessel_scoring/add_measures.py?line=207'>208</a>\u001b[0m             \u001b[39mbreak\u001b[39;00m\n\u001b[1;32m--> <a href='file:///c%3A/Users/MarkR/Documents/GitHub/GFW_vessel_scoring/vessel_scoring/add_measures.py?line=210'>211</a>\u001b[0m     \u001b[39mself\u001b[39m\u001b[39m.\u001b[39mmiddle\u001b[39m.\u001b[39mupdate(\u001b[39mself\u001b[39;49m\u001b[39m.\u001b[39;49mget_measures())\n\u001b[0;32m    <a href='file:///c%3A/Users/MarkR/Documents/GitHub/GFW_vessel_scoring/vessel_scoring/add_measures.py?line=212'>213</a>\u001b[0m \u001b[39myield\u001b[39;00m \u001b[39mself\u001b[39m\u001b[39m.\u001b[39mmiddle\n",
      "File \u001b[1;32mc:\\Users\\MarkR\\Documents\\GitHub\\GFW_vessel_scoring\\vessel_scoring\\add_measures.py:129\u001b[0m, in \u001b[0;36mAddWindowMeasures.get_measures\u001b[1;34m(self)\u001b[0m\n\u001b[0;32m    <a href='file:///c%3A/Users/MarkR/Documents/GitHub/GFW_vessel_scoring/vessel_scoring/add_measures.py?line=127'>128</a>\u001b[0m \u001b[39mdef\u001b[39;00m \u001b[39mget_measures\u001b[39m(\u001b[39mself\u001b[39m):\n\u001b[1;32m--> <a href='file:///c%3A/Users/MarkR/Documents/GitHub/GFW_vessel_scoring/vessel_scoring/add_measures.py?line=128'>129</a>\u001b[0m     s \u001b[39m=\u001b[39m \u001b[39mself\u001b[39;49m\u001b[39m.\u001b[39;49mstats\u001b[39m.\u001b[39;49mget()\n\u001b[0;32m    <a href='file:///c%3A/Users/MarkR/Documents/GitHub/GFW_vessel_scoring/vessel_scoring/add_measures.py?line=129'>130</a>\u001b[0m     \u001b[39m# # Knots...\u001b[39;00m\n\u001b[0;32m    <a href='file:///c%3A/Users/MarkR/Documents/GitHub/GFW_vessel_scoring/vessel_scoring/add_measures.py?line=130'>131</a>\u001b[0m     \u001b[39m# s['measure_pos'] = (s['measure_pos'] * 60) / (self.window_size.total_seconds() / 60 / 60)\u001b[39;00m\n\u001b[0;32m    <a href='file:///c%3A/Users/MarkR/Documents/GitHub/GFW_vessel_scoring/vessel_scoring/add_measures.py?line=131'>132</a>\u001b[0m     \u001b[39m# # Normalize to \"normal\" vessel speed\u001b[39;00m\n\u001b[0;32m    <a href='file:///c%3A/Users/MarkR/Documents/GitHub/GFW_vessel_scoring/vessel_scoring/add_measures.py?line=132'>133</a>\u001b[0m     \u001b[39m# s['measure_pos'] /= 17.0\u001b[39;00m\n\u001b[0;32m    <a href='file:///c%3A/Users/MarkR/Documents/GitHub/GFW_vessel_scoring/vessel_scoring/add_measures.py?line=133'>134</a>\u001b[0m     \u001b[39m# s['measure_pos'] = min(1.0, s['measure_pos'])\u001b[39;00m\n",
      "File \u001b[1;32mc:\\Users\\MarkR\\Documents\\GitHub\\GFW_vessel_scoring\\rolling_measures\\rolling_measures\\__init__.py:157\u001b[0m, in \u001b[0;36mStats.get\u001b[1;34m(self)\u001b[0m\n\u001b[0;32m    <a href='file:///c%3A/Users/MarkR/Documents/GitHub/GFW_vessel_scoring/rolling_measures/rolling_measures/__init__.py?line=155'>156</a>\u001b[0m \u001b[39mdef\u001b[39;00m \u001b[39mget\u001b[39m(\u001b[39mself\u001b[39m):\n\u001b[1;32m--> <a href='file:///c%3A/Users/MarkR/Documents/GitHub/GFW_vessel_scoring/rolling_measures/rolling_measures/__init__.py?line=156'>157</a>\u001b[0m     \u001b[39mreturn\u001b[39;00m {\n\u001b[0;32m    <a href='file:///c%3A/Users/MarkR/Documents/GitHub/GFW_vessel_scoring/rolling_measures/rolling_measures/__init__.py?line=157'>158</a>\u001b[0m         key: value\u001b[39m.\u001b[39mget()\n\u001b[0;32m    <a href='file:///c%3A/Users/MarkR/Documents/GitHub/GFW_vessel_scoring/rolling_measures/rolling_measures/__init__.py?line=158'>159</a>\u001b[0m         \u001b[39mfor\u001b[39;00m (key, value)\n\u001b[0;32m    <a href='file:///c%3A/Users/MarkR/Documents/GitHub/GFW_vessel_scoring/rolling_measures/rolling_measures/__init__.py?line=159'>160</a>\u001b[0m         \u001b[39min\u001b[39;00m six\u001b[39m.\u001b[39miteritems(\u001b[39mself\u001b[39m\u001b[39m.\u001b[39mfieldmap)}\n",
      "File \u001b[1;32mc:\\Users\\MarkR\\Documents\\GitHub\\GFW_vessel_scoring\\rolling_measures\\rolling_measures\\__init__.py:158\u001b[0m, in \u001b[0;36m<dictcomp>\u001b[1;34m(.0)\u001b[0m\n\u001b[0;32m    <a href='file:///c%3A/Users/MarkR/Documents/GitHub/GFW_vessel_scoring/rolling_measures/rolling_measures/__init__.py?line=155'>156</a>\u001b[0m \u001b[39mdef\u001b[39;00m \u001b[39mget\u001b[39m(\u001b[39mself\u001b[39m):\n\u001b[0;32m    <a href='file:///c%3A/Users/MarkR/Documents/GitHub/GFW_vessel_scoring/rolling_measures/rolling_measures/__init__.py?line=156'>157</a>\u001b[0m     \u001b[39mreturn\u001b[39;00m {\n\u001b[1;32m--> <a href='file:///c%3A/Users/MarkR/Documents/GitHub/GFW_vessel_scoring/rolling_measures/rolling_measures/__init__.py?line=157'>158</a>\u001b[0m         key: value\u001b[39m.\u001b[39;49mget()\n\u001b[0;32m    <a href='file:///c%3A/Users/MarkR/Documents/GitHub/GFW_vessel_scoring/rolling_measures/rolling_measures/__init__.py?line=158'>159</a>\u001b[0m         \u001b[39mfor\u001b[39;00m (key, value)\n\u001b[0;32m    <a href='file:///c%3A/Users/MarkR/Documents/GitHub/GFW_vessel_scoring/rolling_measures/rolling_measures/__init__.py?line=159'>160</a>\u001b[0m         \u001b[39min\u001b[39;00m six\u001b[39m.\u001b[39miteritems(\u001b[39mself\u001b[39m\u001b[39m.\u001b[39mfieldmap)}\n",
      "File \u001b[1;32mc:\\Users\\MarkR\\Documents\\GitHub\\GFW_vessel_scoring\\rolling_measures\\rolling_measures\\__init__.py:119\u001b[0m, in \u001b[0;36mStat.get\u001b[1;34m(self)\u001b[0m\n\u001b[0;32m    <a href='file:///c%3A/Users/MarkR/Documents/GitHub/GFW_vessel_scoring/rolling_measures/rolling_measures/__init__.py?line=117'>118</a>\u001b[0m \u001b[39mdef\u001b[39;00m \u001b[39mget\u001b[39m(\u001b[39mself\u001b[39m):\n\u001b[1;32m--> <a href='file:///c%3A/Users/MarkR/Documents/GitHub/GFW_vessel_scoring/rolling_measures/rolling_measures/__init__.py?line=118'>119</a>\u001b[0m     \u001b[39mreturn\u001b[39;00m \u001b[39mself\u001b[39;49m\u001b[39m.\u001b[39;49mvalue\u001b[39m.\u001b[39;49mget()\n",
      "File \u001b[1;32mc:\\Users\\MarkR\\Documents\\GitHub\\GFW_vessel_scoring\\rolling_measures\\rolling_measures\\__init__.py:77\u001b[0m, in \u001b[0;36mAvg.get\u001b[1;34m(self)\u001b[0m\n\u001b[0;32m     <a href='file:///c%3A/Users/MarkR/Documents/GitHub/GFW_vessel_scoring/rolling_measures/rolling_measures/__init__.py?line=75'>76</a>\u001b[0m \u001b[39mif\u001b[39;00m \u001b[39mself\u001b[39m\u001b[39m.\u001b[39mcount \u001b[39m<\u001b[39m \u001b[39m1\u001b[39m:\n\u001b[1;32m---> <a href='file:///c%3A/Users/MarkR/Documents/GitHub/GFW_vessel_scoring/rolling_measures/rolling_measures/__init__.py?line=76'>77</a>\u001b[0m     \u001b[39mraise\u001b[39;00m NonPositivePopulationSize(\u001b[39m\"\u001b[39m\u001b[39mAvg\u001b[39m\u001b[39m\"\u001b[39m)\n\u001b[0;32m     <a href='file:///c%3A/Users/MarkR/Documents/GitHub/GFW_vessel_scoring/rolling_measures/rolling_measures/__init__.py?line=77'>78</a>\u001b[0m \u001b[39mreturn\u001b[39;00m \u001b[39mself\u001b[39m\u001b[39m.\u001b[39msum\u001b[39m/\u001b[39m\u001b[39mself\u001b[39m\u001b[39m.\u001b[39mcount\n",
      "\u001b[1;31m<class 'str'>\u001b[0m: (<class 'RecursionError'>, RecursionError('maximum recursion depth exceeded while calling a Python object'))",
      "\nDuring handling of the above exception, another exception occurred:\n",
      "\u001b[1;31mRecursionError\u001b[0m                            Traceback (most recent call last)",
      "    \u001b[1;31m[... skipping hidden 1 frame]\u001b[0m\n",
      "File \u001b[1;32m~\\AppData\\Roaming\\Python\\Python39\\site-packages\\IPython\\core\\interactiveshell.py:1984\u001b[0m, in \u001b[0;36mInteractiveShell.showtraceback\u001b[1;34m(self, exc_tuple, filename, tb_offset, exception_only, running_compiled_code)\u001b[0m\n\u001b[0;32m   <a href='file:///c%3A/Users/MarkR/AppData/Roaming/Python/Python39/site-packages/IPython/core/interactiveshell.py?line=1979'>1980</a>\u001b[0m \u001b[39mexcept\u001b[39;00m \u001b[39mException\u001b[39;00m:\n\u001b[0;32m   <a href='file:///c%3A/Users/MarkR/AppData/Roaming/Python/Python39/site-packages/IPython/core/interactiveshell.py?line=1980'>1981</a>\u001b[0m     stb \u001b[39m=\u001b[39m \u001b[39mself\u001b[39m\u001b[39m.\u001b[39mInteractiveTB\u001b[39m.\u001b[39mstructured_traceback(etype,\n\u001b[0;32m   <a href='file:///c%3A/Users/MarkR/AppData/Roaming/Python/Python39/site-packages/IPython/core/interactiveshell.py?line=1981'>1982</a>\u001b[0m                         value, tb, tb_offset\u001b[39m=\u001b[39mtb_offset)\n\u001b[1;32m-> <a href='file:///c%3A/Users/MarkR/AppData/Roaming/Python/Python39/site-packages/IPython/core/interactiveshell.py?line=1983'>1984</a>\u001b[0m \u001b[39mself\u001b[39;49m\u001b[39m.\u001b[39;49m_showtraceback(etype, value, stb)\n\u001b[0;32m   <a href='file:///c%3A/Users/MarkR/AppData/Roaming/Python/Python39/site-packages/IPython/core/interactiveshell.py?line=1984'>1985</a>\u001b[0m \u001b[39mif\u001b[39;00m \u001b[39mself\u001b[39m\u001b[39m.\u001b[39mcall_pdb:\n\u001b[0;32m   <a href='file:///c%3A/Users/MarkR/AppData/Roaming/Python/Python39/site-packages/IPython/core/interactiveshell.py?line=1985'>1986</a>\u001b[0m     \u001b[39m# drop into debugger\u001b[39;00m\n\u001b[0;32m   <a href='file:///c%3A/Users/MarkR/AppData/Roaming/Python/Python39/site-packages/IPython/core/interactiveshell.py?line=1986'>1987</a>\u001b[0m     \u001b[39mself\u001b[39m\u001b[39m.\u001b[39mdebugger(force\u001b[39m=\u001b[39m\u001b[39mTrue\u001b[39;00m)\n",
      "File \u001b[1;32m~\\AppData\\Roaming\\Python\\Python39\\site-packages\\ipykernel\\zmqshell.py:542\u001b[0m, in \u001b[0;36mZMQInteractiveShell._showtraceback\u001b[1;34m(self, etype, evalue, stb)\u001b[0m\n\u001b[0;32m    <a href='file:///c%3A/Users/MarkR/AppData/Roaming/Python/Python39/site-packages/ipykernel/zmqshell.py?line=535'>536</a>\u001b[0m sys\u001b[39m.\u001b[39mstdout\u001b[39m.\u001b[39mflush()\n\u001b[0;32m    <a href='file:///c%3A/Users/MarkR/AppData/Roaming/Python/Python39/site-packages/ipykernel/zmqshell.py?line=536'>537</a>\u001b[0m sys\u001b[39m.\u001b[39mstderr\u001b[39m.\u001b[39mflush()\n\u001b[0;32m    <a href='file:///c%3A/Users/MarkR/AppData/Roaming/Python/Python39/site-packages/ipykernel/zmqshell.py?line=538'>539</a>\u001b[0m exc_content \u001b[39m=\u001b[39m {\n\u001b[0;32m    <a href='file:///c%3A/Users/MarkR/AppData/Roaming/Python/Python39/site-packages/ipykernel/zmqshell.py?line=539'>540</a>\u001b[0m     \u001b[39m'\u001b[39m\u001b[39mtraceback\u001b[39m\u001b[39m'\u001b[39m : stb,\n\u001b[0;32m    <a href='file:///c%3A/Users/MarkR/AppData/Roaming/Python/Python39/site-packages/ipykernel/zmqshell.py?line=540'>541</a>\u001b[0m     \u001b[39m'\u001b[39m\u001b[39mename\u001b[39m\u001b[39m'\u001b[39m : \u001b[39mstr\u001b[39m(etype\u001b[39m.\u001b[39m\u001b[39m__name__\u001b[39m),\n\u001b[1;32m--> <a href='file:///c%3A/Users/MarkR/AppData/Roaming/Python/Python39/site-packages/ipykernel/zmqshell.py?line=541'>542</a>\u001b[0m     \u001b[39m'\u001b[39m\u001b[39mevalue\u001b[39m\u001b[39m'\u001b[39m : \u001b[39mstr\u001b[39;49m(evalue),\n\u001b[0;32m    <a href='file:///c%3A/Users/MarkR/AppData/Roaming/Python/Python39/site-packages/ipykernel/zmqshell.py?line=542'>543</a>\u001b[0m }\n\u001b[0;32m    <a href='file:///c%3A/Users/MarkR/AppData/Roaming/Python/Python39/site-packages/ipykernel/zmqshell.py?line=544'>545</a>\u001b[0m dh \u001b[39m=\u001b[39m \u001b[39mself\u001b[39m\u001b[39m.\u001b[39mdisplayhook\n\u001b[0;32m    <a href='file:///c%3A/Users/MarkR/AppData/Roaming/Python/Python39/site-packages/ipykernel/zmqshell.py?line=545'>546</a>\u001b[0m \u001b[39m# Send exception info over pub socket for other clients than the caller\u001b[39;00m\n\u001b[0;32m    <a href='file:///c%3A/Users/MarkR/AppData/Roaming/Python/Python39/site-packages/ipykernel/zmqshell.py?line=546'>547</a>\u001b[0m \u001b[39m# to pick up\u001b[39;00m\n",
      "File \u001b[1;32mc:\\Users\\MarkR\\Documents\\GitHub\\GFW_vessel_scoring\\rolling_measures\\rolling_measures\\__init__.py:19\u001b[0m, in \u001b[0;36mNonPositivePopulationSize.__str__\u001b[1;34m(self)\u001b[0m\n\u001b[0;32m     <a href='file:///c%3A/Users/MarkR/Documents/GitHub/GFW_vessel_scoring/rolling_measures/rolling_measures/__init__.py?line=17'>18</a>\u001b[0m \u001b[39mdef\u001b[39;00m \u001b[39m__str__\u001b[39m(\u001b[39mself\u001b[39m):\n\u001b[1;32m---> <a href='file:///c%3A/Users/MarkR/Documents/GitHub/GFW_vessel_scoring/rolling_measures/rolling_measures/__init__.py?line=18'>19</a>\u001b[0m     \u001b[39mreturn\u001b[39;00m \u001b[39mstr\u001b[39m(\u001b[39mstr\u001b[39;49m(\u001b[39mself\u001b[39;49m))\n",
      "File \u001b[1;32mc:\\Users\\MarkR\\Documents\\GitHub\\GFW_vessel_scoring\\rolling_measures\\rolling_measures\\__init__.py:19\u001b[0m, in \u001b[0;36mNonPositivePopulationSize.__str__\u001b[1;34m(self)\u001b[0m\n\u001b[0;32m     <a href='file:///c%3A/Users/MarkR/Documents/GitHub/GFW_vessel_scoring/rolling_measures/rolling_measures/__init__.py?line=17'>18</a>\u001b[0m \u001b[39mdef\u001b[39;00m \u001b[39m__str__\u001b[39m(\u001b[39mself\u001b[39m):\n\u001b[1;32m---> <a href='file:///c%3A/Users/MarkR/Documents/GitHub/GFW_vessel_scoring/rolling_measures/rolling_measures/__init__.py?line=18'>19</a>\u001b[0m     \u001b[39mreturn\u001b[39;00m \u001b[39mstr\u001b[39m(\u001b[39mstr\u001b[39;49m(\u001b[39mself\u001b[39;49m))\n",
      "    \u001b[1;31m[... skipping similar frames: NonPositivePopulationSize.__str__ at line 19 (988 times)]\u001b[0m\n",
      "File \u001b[1;32mc:\\Users\\MarkR\\Documents\\GitHub\\GFW_vessel_scoring\\rolling_measures\\rolling_measures\\__init__.py:19\u001b[0m, in \u001b[0;36mNonPositivePopulationSize.__str__\u001b[1;34m(self)\u001b[0m\n\u001b[0;32m     <a href='file:///c%3A/Users/MarkR/Documents/GitHub/GFW_vessel_scoring/rolling_measures/rolling_measures/__init__.py?line=17'>18</a>\u001b[0m \u001b[39mdef\u001b[39;00m \u001b[39m__str__\u001b[39m(\u001b[39mself\u001b[39m):\n\u001b[1;32m---> <a href='file:///c%3A/Users/MarkR/Documents/GitHub/GFW_vessel_scoring/rolling_measures/rolling_measures/__init__.py?line=18'>19</a>\u001b[0m     \u001b[39mreturn\u001b[39;00m \u001b[39mstr\u001b[39m(\u001b[39mstr\u001b[39;49m(\u001b[39mself\u001b[39;49m))\n",
      "\u001b[1;31mRecursionError\u001b[0m: maximum recursion depth exceeded while calling a Python object"
     ]
    }
   ],
   "source": [
    "print(list(messages))"
   ]
  },
  {
   "cell_type": "code",
   "execution_count": null,
   "metadata": {
    "collapsed": false
   },
   "outputs": [],
   "source": [
    "messages = [msg.get('ignore', msg) for msg in messages]"
   ]
  },
  {
   "cell_type": "code",
   "execution_count": null,
   "metadata": {
    "collapsed": false
   },
   "outputs": [],
   "source": [
    "m = np.zeros(len(messages), dtype=[\n",
    "        ('course', 'float'),\n",
    "('measure_cos_course', 'float'),\n",
    "('measure_course', 'float'),\n",
    "('measure_courseavg_43200', 'float'),\n",
    "('measure_coursestddev_43200', 'float'),\n",
    "('measure_coursestddev_43200_log', 'float'),\n",
    "('measure_latavg_43200', 'float'),\n",
    "('measure_lonavg_43200', 'float'),\n",
    "('measure_new_score', 'float'),\n",
    "('measure_pos_43200', 'float'),\n",
    "('measure_sin_course', 'float'),\n",
    "('measure_speed', 'float'),\n",
    "('measure_speedavg_43200', 'float'),\n",
    "('measure_speedstddev_43200', 'float'),\n",
    "('measure_speedstddev_43200_log', 'float'),\n",
    "('speed', 'float'),\n",
    "('timestamp', 'float')\n",
    "    ])\n",
    "\n",
    "for idx, msg in enumerate(messages):\n",
    "    for key in msg:\n",
    "        val = msg[key]\n",
    "        if key == 'timestamp':\n",
    "            val = (val - datetime.datetime(1970, 1, 1)).total_seconds()\n",
    "        m[idx][key] = val"
   ]
  },
  {
   "cell_type": "code",
   "execution_count": null,
   "metadata": {
    "collapsed": false
   },
   "outputs": [],
   "source": [
    "plt.plot(m['timestamp'], m['measure_new_score'], color='red')\n",
    "#plt.plot(m['timestamp'], m['speed'] / 7, color='green')\n",
    "#plt.plot(m['timestamp'], m['course'] / 360, color='blue')\n",
    "plt.plot(m['timestamp'], m['measure_coursestddev_43200'] / m['measure_coursestddev_43200'].max(), color='#00ff00')\n",
    "plt.plot(m['timestamp'], m['measure_speedstddev_43200'] / m['measure_speedstddev_43200'].max(), color='#0000ff')\n",
    "plt.plot(m['timestamp'], m['measure_speedavg_43200'] / m['measure_speedavg_43200'].max(), color='#00ffff')\n",
    "plt.show()"
   ]
  },
  {
   "cell_type": "code",
   "execution_count": null,
   "metadata": {
    "collapsed": false
   },
   "outputs": [],
   "source": [
    "plt.plot(m['timestamp'], m['speed'] / 7, color='green')\n",
    "plt.plot(m['timestamp'], m['measure_speedstddev_43200'] / m['measure_speedstddev_43200'].max(), color='#ff55ff')\n",
    "#plt.plot(m['timestamp'], m['measure_speedavg_43200'] / m['measure_speedavg_43200'].max(), color='blue')\n",
    "plt.show()"
   ]
  },
  {
   "cell_type": "code",
   "execution_count": null,
   "metadata": {
    "collapsed": false
   },
   "outputs": [],
   "source": [
    "(m['timestamp'].max() - m['timestamp'].min()) / (60*60)"
   ]
  },
  {
   "cell_type": "code",
   "execution_count": null,
   "metadata": {
    "collapsed": false
   },
   "outputs": [],
   "source": []
  },
  {
   "cell_type": "markdown",
   "metadata": {
    "collapsed": true
   },
   "source": []
  }
 ],
 "metadata": {
  "kernelspec": {
   "display_name": "Python 2",
   "language": "python",
   "name": "python2"
  },
  "language_info": {
   "codemirror_mode": {
    "name": "ipython",
    "version": 2
   },
   "file_extension": ".py",
   "mimetype": "text/x-python",
   "name": "python",
   "nbconvert_exporter": "python",
   "pygments_lexer": "ipython2",
   "version": "2.7.6"
  }
 },
 "nbformat": 4,
 "nbformat_minor": 0
}
