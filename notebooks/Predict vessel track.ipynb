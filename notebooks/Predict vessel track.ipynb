{
 "cells": [
  {
   "cell_type": "code",
   "execution_count": 41,
   "metadata": {
    "collapsed": false
   },
   "outputs": [
    {
     "name": "stdout",
     "output_type": "stream",
     "text": [
      "Populating the interactive namespace from numpy and matplotlib\n"
     ]
    },
    {
     "name": "stderr",
     "output_type": "stream",
     "text": [
      "/usr/local/lib/python2.7/dist-packages/IPython/core/magics/pylab.py:161: UserWarning: pylab import has clobbered these variables: ['f']\n",
      "`%matplotlib` prevents importing * from pylab and numpy\n",
      "  \"\\n`%matplotlib` prevents importing * from pylab and numpy\"\n"
     ]
    }
   ],
   "source": [
    "%pylab inline\n",
    "import vessel_scoring.models\n",
    "import json\n",
    "import datetime"
   ]
  },
  {
   "cell_type": "code",
   "execution_count": 6,
   "metadata": {
    "collapsed": false
   },
   "outputs": [],
   "source": [
    "models = vessel_scoring.models.load_models()"
   ]
  },
  {
   "cell_type": "code",
   "execution_count": 109,
   "metadata": {
    "collapsed": true
   },
   "outputs": [],
   "source": [
    "def messages_from_bq_dump(path):\n",
    "    with open(path) as f:\n",
    "        for row in f:\n",
    "            row = json.loads(row)\n",
    "            distance = row.get('distance_from_shore')\n",
    "            row = {key: value for (key, value) in row.iteritems()\n",
    "                if key in ('timestamp', 'course', 'speed')}\n",
    "            row['timestamp'] = datetime.datetime.fromtimestamp(int(row['timestamp']))\n",
    "            if row.get('course') is not None:\n",
    "                row['course'] = float(row['course'])\n",
    "            if row.get('speed') is not None:\n",
    "                row['speed'] = float(row['speed'])\n",
    "            if distance is not None and float(distance) / 1852.0 < 3:\n",
    "                row = {'ignore': row}\n",
    "            yield row"
   ]
  },
  {
   "cell_type": "code",
   "execution_count": 110,
   "metadata": {
    "collapsed": true
   },
   "outputs": [],
   "source": [
    "messages = models['Logistic'].predict_messages(\n",
    "    messages_from_bq_dump(\"/home/redhog/Downloads/results-20170601-170811.json\"))"
   ]
  },
  {
   "cell_type": "code",
   "execution_count": 111,
   "metadata": {
    "collapsed": false
   },
   "outputs": [],
   "source": [
    "messages = [msg.get('ignore', msg) for msg in messages]"
   ]
  },
  {
   "cell_type": "code",
   "execution_count": 112,
   "metadata": {
    "collapsed": false
   },
   "outputs": [],
   "source": [
    "m = np.zeros(len(messages), dtype=[\n",
    "        ('course', 'float'),\n",
    "('measure_cos_course', 'float'),\n",
    "('measure_course', 'float'),\n",
    "('measure_courseavg_43200', 'float'),\n",
    "('measure_coursestddev_43200', 'float'),\n",
    "('measure_coursestddev_43200_log', 'float'),\n",
    "('measure_latavg_43200', 'float'),\n",
    "('measure_lonavg_43200', 'float'),\n",
    "('measure_new_score', 'float'),\n",
    "('measure_pos_43200', 'float'),\n",
    "('measure_sin_course', 'float'),\n",
    "('measure_speed', 'float'),\n",
    "('measure_speedavg_43200', 'float'),\n",
    "('measure_speedstddev_43200', 'float'),\n",
    "('measure_speedstddev_43200_log', 'float'),\n",
    "('speed', 'float'),\n",
    "('timestamp', 'float')\n",
    "    ])\n",
    "\n",
    "for idx, msg in enumerate(messages):\n",
    "    for key in msg:\n",
    "        val = msg[key]\n",
    "        if key == 'timestamp':\n",
    "            val = (val - datetime.datetime(1970, 1, 1)).total_seconds()\n",
    "        m[idx][key] = val"
   ]
  },
  {
   "cell_type": "code",
   "execution_count": 113,
   "metadata": {
    "collapsed": false
   },
   "outputs": [
    {
     "data": {
      "image/png": "[encoded data removed]",
      "text/plain": [
       "<matplotlib.figure.Figure at 0x7f71e0abd290>"
      ]
     },
     "metadata": {},
     "output_type": "display_data"
    }
   ],
   "source": [
    "plt.plot(m['timestamp'], m['measure_new_score'], color='red')\n",
    "#plt.plot(m['timestamp'], m['speed'] / 7, color='green')\n",
    "#plt.plot(m['timestamp'], m['course'] / 360, color='blue')\n",
    "plt.plot(m['timestamp'], m['measure_coursestddev_43200'] / m['measure_coursestddev_43200'].max(), color='#00ff00')\n",
    "plt.plot(m['timestamp'], m['measure_speedstddev_43200'] / m['measure_speedstddev_43200'].max(), color='#0000ff')\n",
    "plt.plot(m['timestamp'], m['measure_speedavg_43200'] / m['measure_speedavg_43200'].max(), color='#00ffff')\n",
    "plt.show()"
   ]
  },
  {
   "cell_type": "code",
   "execution_count": 76,
   "metadata": {
    "collapsed": false
   },
   "outputs": [
    {
     "data": {
      "image/png": "[encoded data removed]",
      "text/plain": [
       "<matplotlib.figure.Figure at 0x7f71d9001850>"
      ]
     },
     "metadata": {},
     "output_type": "display_data"
    }
   ],
   "source": [
    "plt.plot(m['timestamp'], m['speed'] / 7, color='green')\n",
    "plt.plot(m['timestamp'], m['measure_speedstddev_43200'] / m['measure_speedstddev_43200'].max(), color='#ff55ff')\n",
    "#plt.plot(m['timestamp'], m['measure_speedavg_43200'] / m['measure_speedavg_43200'].max(), color='blue')\n",
    "plt.show()"
   ]
  },
  {
   "cell_type": "code",
   "execution_count": 87,
   "metadata": {
    "collapsed": false
   },
   "outputs": [
    {
     "data": {
      "text/plain": [
       "23.166666666666668"
      ]
     },
     "execution_count": 87,
     "metadata": {},
     "output_type": "execute_result"
    }
   ],
   "source": [
    "(m['timestamp'].max() - m['timestamp'].min()) / (60*60)"
   ]
  },
  {
   "cell_type": "code",
   "execution_count": 98,
   "metadata": {
    "collapsed": false
   },
   "outputs": [
    {
     "data": {
      "text/plain": [
       "{'content': {u'course': 245.0,\n",
       "  u'speed': 5.9,\n",
       "  u'timestamp': datetime.datetime(2014, 1, 4, 0, 10)}}"
      ]
     },
     "execution_count": 98,
     "metadata": {},
     "output_type": "execute_result"
    }
   ],
   "source": []
  },
  {
   "cell_type": "markdown",
   "metadata": {
    "collapsed": true
   },
   "source": []
  }
 ],
 "metadata": {
  "kernelspec": {
   "display_name": "Python 2",
   "language": "python",
   "name": "python2"
  },
  "language_info": {
   "codemirror_mode": {
    "name": "ipython",
    "version": 2
   },
   "file_extension": ".py",
   "mimetype": "text/x-python",
   "name": "python",
   "nbconvert_exporter": "python",
   "pygments_lexer": "ipython2",
   "version": "2.7.6"
  }
 },
 "nbformat": 4,
 "nbformat_minor": 0
}
